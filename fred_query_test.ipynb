{
 "cells": [
  {
   "cell_type": "code",
   "execution_count": 1,
   "metadata": {},
   "outputs": [],
   "source": [
    "import pandas as pd \n",
    "import numpy as np\n",
    "\n",
    "import requests\n",
    "from bs4 import BeautifulSoup"
   ]
  },
  {
   "cell_type": "code",
   "execution_count": 2,
   "metadata": {},
   "outputs": [],
   "source": [
    "base_url = 'https://askfred.net/Results/past.php?f%5Bevent_weapon_eq%5D=Epee&f%5Bevent_gender_eq%5D=men&f%5Bevent_age_eq%5D=senior-open&f%5Bradius_mi%5D=300&vals%5Bloc%5D=&f%5Bname_contains%5D=&ops%5Bdate%5D=start_date_eq&vals%5Bdate%5D=&f%5Bevent_is_team%5D=&f%5Bevent_entries_gte%5D=&ops%5Bevent_rating%5D=event_rating_eq&vals%5Bevent_rating%5D=&f%5Bdivision_id%5D=&page_id={}'"
   ]
  },
  {
   "cell_type": "code",
   "execution_count": 3,
   "metadata": {},
   "outputs": [],
   "source": [
    "response = requests.get(base_url.format(50))\n",
    "soup = BeautifulSoup(response.text, 'html')"
   ]
  },
  {
   "cell_type": "code",
   "execution_count": 4,
   "metadata": {},
   "outputs": [
    {
     "data": {
      "text/plain": [
       "True"
      ]
     },
     "execution_count": 4,
     "metadata": {},
     "output_type": "execute_result"
    }
   ],
   "source": [
    "soup.find('h3') is None"
   ]
  },
  {
   "cell_type": "code",
   "execution_count": 5,
   "metadata": {},
   "outputs": [
    {
     "data": {
      "text/plain": [
       "['',\n",
       " 'Mar 25 - Mar 27, 2017',\n",
       " 'Mar 25, 2017',\n",
       " 'Mar 25 - Mar 26, 2017',\n",
       " 'Mar 25 - Mar 26, 2017',\n",
       " 'Mar 24 - Mar 26, 2017',\n",
       " 'Mar 24, 2017',\n",
       " 'Mar 23, 2017',\n",
       " 'Mar 19, 2017',\n",
       " 'Mar 19, 2017',\n",
       " 'Mar 19, 2017',\n",
       " 'Mar 19, 2017',\n",
       " 'Mar 19, 2017',\n",
       " 'Mar 19, 2017',\n",
       " 'Mar 18, 2017',\n",
       " 'Mar 18, 2017',\n",
       " 'Mar 17 - Mar 19, 2017',\n",
       " 'Mar 14, 2017',\n",
       " 'Mar 12, 2017',\n",
       " 'Mar 10 - Mar 12, 2017',\n",
       " 'Mar 5, 2017',\n",
       " '']"
      ]
     },
     "execution_count": 5,
     "metadata": {},
     "output_type": "execute_result"
    }
   ],
   "source": [
    "[t.text.split('\\n\\n\\n')[-1].strip() for t in soup.find('table', {'id': 'past-tours'})]"
   ]
  },
  {
   "cell_type": "code",
   "execution_count": 6,
   "metadata": {},
   "outputs": [
    {
     "data": {
      "text/plain": [
       "(14, 20)"
      ]
     },
     "execution_count": 6,
     "metadata": {},
     "output_type": "execute_result"
    }
   ],
   "source": [
    "tournament_links = [a['href'] for a in soup.find('table', {'id': 'past-tours'}).findAll('a') if 'results' in a['href']]\n",
    "tournament_dates = [t.text.split('\\n\\n\\n')[-1].strip() for t in soup.find('table', {'id': 'past-tours'})]\n",
    "tournament_dates = [d for d in tournament_dates if d != '']\n",
    "len(tournament_links), len(tournament_dates)"
   ]
  },
  {
   "cell_type": "code",
   "execution_count": 7,
   "metadata": {},
   "outputs": [
    {
     "data": {
      "text/plain": [
       "'https://askfred.net/Results/results.php?tournament_id=34679'"
      ]
     },
     "execution_count": 7,
     "metadata": {},
     "output_type": "execute_result"
    }
   ],
   "source": [
    "tournament_links[12]"
   ]
  },
  {
   "cell_type": "code",
   "execution_count": 8,
   "metadata": {},
   "outputs": [
    {
     "data": {
      "text/plain": [
       "['https://askfred.net/Results/results.php?tournament_id=33797',\n",
       " 'https://askfred.net/Results/results.php?tournament_id=35975',\n",
       " 'https://askfred.net/Results/results.php?tournament_id=33742',\n",
       " 'https://askfred.net/Results/results.php?tournament_id=36013',\n",
       " 'https://askfred.net/Results/results.php?tournament_id=34223',\n",
       " 'https://askfred.net/Results/results.php?tournament_id=36039',\n",
       " 'https://askfred.net/Results/results.php?tournament_id=36228',\n",
       " 'https://askfred.net/Results/results.php?tournament_id=36255',\n",
       " 'https://askfred.net/Results/results.php?tournament_id=36332',\n",
       " 'https://askfred.net/Results/results.php?tournament_id=34709',\n",
       " 'https://askfred.net/Results/results.php?tournament_id=36365',\n",
       " 'https://askfred.net/Results/results.php?tournament_id=33956',\n",
       " 'https://askfred.net/Results/results.php?tournament_id=34679',\n",
       " 'https://askfred.net/Results/results.php?tournament_id=35786']"
      ]
     },
     "execution_count": 8,
     "metadata": {},
     "output_type": "execute_result"
    }
   ],
   "source": [
    "tournament_links"
   ]
  },
  {
   "cell_type": "code",
   "execution_count": 37,
   "metadata": {},
   "outputs": [],
   "source": [
    "response = requests.get(tournament_links[0])\n",
    "soup = BeautifulSoup(response.text, 'html')"
   ]
  },
  {
   "cell_type": "code",
   "execution_count": 38,
   "metadata": {},
   "outputs": [
    {
     "data": {
      "text/plain": [
       "\"\\n\\nCadet (U16) Men's Epee:\\xa0\\xa0\\xa0\\n11 Competitors, a NR Event\\n\\xa0\\xa0\\xa0\\xa0\\xa0\\xa0\\n\\n\\n\""
      ]
     },
     "execution_count": 38,
     "metadata": {},
     "output_type": "execute_result"
    }
   ],
   "source": [
    "soup.findAll('table', {'class': 'box'})[0].findAll('tr')[0].text"
   ]
  },
  {
   "cell_type": "code",
   "execution_count": 55,
   "metadata": {},
   "outputs": [],
   "source": [
    "def get_event_type(row_text):\n",
    "    category, _, _, n_rating = row_text.split('\\xa0')\n",
    "    category = category.replace(':', '')\n",
    "    n, rating = n_rating.split(', ')\n",
    "    n = int(n.replace('Competitors', ''))\n",
    "    rating = rating.replace('a ', '').replace(' Event', '')\n",
    "\n",
    "    return category, n, rating\n",
    "\n",
    "def get_event_info(tournament_page):\n",
    "    date, location = tournament_page.find('div', {'id': 'results-head'}).text.split('\\n')[1:3]\n",
    "    return date, location"
   ]
  },
  {
   "cell_type": "code",
   "execution_count": 63,
   "metadata": {},
   "outputs": [
    {
     "data": {
      "text/plain": [
       "['03/25/2017 - 03/27/2017', 'Arapahoe County Fairgrounds: Aurora, CO']"
      ]
     },
     "execution_count": 63,
     "metadata": {},
     "output_type": "execute_result"
    }
   ],
   "source": [
    "soup.find('div', {'id': 'results-head'}).text.split('\\n')[1:3]"
   ]
  },
  {
   "cell_type": "code",
   "execution_count": 58,
   "metadata": {},
   "outputs": [
    {
     "data": {
      "text/html": [
       "<div>\n",
       "<style scoped>\n",
       "    .dataframe tbody tr th:only-of-type {\n",
       "        vertical-align: middle;\n",
       "    }\n",
       "\n",
       "    .dataframe tbody tr th {\n",
       "        vertical-align: top;\n",
       "    }\n",
       "\n",
       "    .dataframe thead th {\n",
       "        text-align: right;\n",
       "    }\n",
       "</style>\n",
       "<table border=\"1\" class=\"dataframe\">\n",
       "  <thead>\n",
       "    <tr style=\"text-align: right;\">\n",
       "      <th></th>\n",
       "      <th>Event</th>\n",
       "      <th>NumCompetitors</th>\n",
       "      <th>EventRating</th>\n",
       "      <th>Place</th>\n",
       "      <th>Name</th>\n",
       "      <th>ClubAbbr</th>\n",
       "      <th>Club</th>\n",
       "      <th>Rating</th>\n",
       "      <th>RatingEarned</th>\n",
       "    </tr>\n",
       "  </thead>\n",
       "  <tbody>\n",
       "    <tr>\n",
       "      <th>0</th>\n",
       "      <td>Cadet (U16) Men's Epee</td>\n",
       "      <td>11</td>\n",
       "      <td>NR</td>\n",
       "      <td>1</td>\n",
       "      <td>Senseman, Samuel</td>\n",
       "      <td>NCF</td>\n",
       "      <td>Northern Colorado Fencers</td>\n",
       "      <td>B2016</td>\n",
       "      <td></td>\n",
       "    </tr>\n",
       "    <tr>\n",
       "      <th>1</th>\n",
       "      <td>Cadet (U16) Men's Epee</td>\n",
       "      <td>11</td>\n",
       "      <td>NR</td>\n",
       "      <td>1</td>\n",
       "      <td>Senseman, Samuel</td>\n",
       "      <td>NCF</td>\n",
       "      <td>Northern Colorado Fencers</td>\n",
       "      <td>B2016</td>\n",
       "      <td></td>\n",
       "    </tr>\n",
       "    <tr>\n",
       "      <th>2</th>\n",
       "      <td>Cadet (U16) Men's Epee</td>\n",
       "      <td>11</td>\n",
       "      <td>NR</td>\n",
       "      <td>1</td>\n",
       "      <td>Senseman, Samuel</td>\n",
       "      <td>NCF</td>\n",
       "      <td>Northern Colorado Fencers</td>\n",
       "      <td>B2016</td>\n",
       "      <td></td>\n",
       "    </tr>\n",
       "    <tr>\n",
       "      <th>3</th>\n",
       "      <td>Cadet (U16) Men's Epee</td>\n",
       "      <td>11</td>\n",
       "      <td>NR</td>\n",
       "      <td>1</td>\n",
       "      <td>Senseman, Samuel</td>\n",
       "      <td>NCF</td>\n",
       "      <td>Northern Colorado Fencers</td>\n",
       "      <td>B2016</td>\n",
       "      <td></td>\n",
       "    </tr>\n",
       "    <tr>\n",
       "      <th>4</th>\n",
       "      <td>Cadet (U16) Men's Epee</td>\n",
       "      <td>11</td>\n",
       "      <td>NR</td>\n",
       "      <td>1</td>\n",
       "      <td>Senseman, Samuel</td>\n",
       "      <td>NCF</td>\n",
       "      <td>Northern Colorado Fencers</td>\n",
       "      <td>B2016</td>\n",
       "      <td></td>\n",
       "    </tr>\n",
       "    <tr>\n",
       "      <th>...</th>\n",
       "      <td>...</td>\n",
       "      <td>...</td>\n",
       "      <td>...</td>\n",
       "      <td>...</td>\n",
       "      <td>...</td>\n",
       "      <td>...</td>\n",
       "      <td>...</td>\n",
       "      <td>...</td>\n",
       "      <td>...</td>\n",
       "    </tr>\n",
       "    <tr>\n",
       "      <th>252</th>\n",
       "      <td>Div 1A Senior Women's Saber</td>\n",
       "      <td>10</td>\n",
       "      <td>E1</td>\n",
       "      <td>1</td>\n",
       "      <td>Senseman, Samuel</td>\n",
       "      <td>NCF</td>\n",
       "      <td>Northern Colorado Fencers</td>\n",
       "      <td>B2016</td>\n",
       "      <td></td>\n",
       "    </tr>\n",
       "    <tr>\n",
       "      <th>253</th>\n",
       "      <td>Div 1A Senior Women's Saber</td>\n",
       "      <td>10</td>\n",
       "      <td>E1</td>\n",
       "      <td>1</td>\n",
       "      <td>Senseman, Samuel</td>\n",
       "      <td>NCF</td>\n",
       "      <td>Northern Colorado Fencers</td>\n",
       "      <td>B2016</td>\n",
       "      <td></td>\n",
       "    </tr>\n",
       "    <tr>\n",
       "      <th>254</th>\n",
       "      <td>Div 1A Senior Women's Saber</td>\n",
       "      <td>10</td>\n",
       "      <td>E1</td>\n",
       "      <td>1</td>\n",
       "      <td>Senseman, Samuel</td>\n",
       "      <td>NCF</td>\n",
       "      <td>Northern Colorado Fencers</td>\n",
       "      <td>B2016</td>\n",
       "      <td></td>\n",
       "    </tr>\n",
       "    <tr>\n",
       "      <th>255</th>\n",
       "      <td>Div 1A Senior Women's Saber</td>\n",
       "      <td>10</td>\n",
       "      <td>E1</td>\n",
       "      <td>1</td>\n",
       "      <td>Senseman, Samuel</td>\n",
       "      <td>NCF</td>\n",
       "      <td>Northern Colorado Fencers</td>\n",
       "      <td>B2016</td>\n",
       "      <td></td>\n",
       "    </tr>\n",
       "    <tr>\n",
       "      <th>256</th>\n",
       "      <td>Div 1A Senior Women's Saber</td>\n",
       "      <td>10</td>\n",
       "      <td>E1</td>\n",
       "      <td>1</td>\n",
       "      <td>Senseman, Samuel</td>\n",
       "      <td>NCF</td>\n",
       "      <td>Northern Colorado Fencers</td>\n",
       "      <td>B2016</td>\n",
       "      <td></td>\n",
       "    </tr>\n",
       "  </tbody>\n",
       "</table>\n",
       "<p>257 rows × 9 columns</p>\n",
       "</div>"
      ],
      "text/plain": [
       "                           Event  NumCompetitors EventRating Place  \\\n",
       "0         Cadet (U16) Men's Epee              11          NR     1   \n",
       "1         Cadet (U16) Men's Epee              11          NR     1   \n",
       "2         Cadet (U16) Men's Epee              11          NR     1   \n",
       "3         Cadet (U16) Men's Epee              11          NR     1   \n",
       "4         Cadet (U16) Men's Epee              11          NR     1   \n",
       "..                           ...             ...         ...   ...   \n",
       "252  Div 1A Senior Women's Saber              10          E1     1   \n",
       "253  Div 1A Senior Women's Saber              10          E1     1   \n",
       "254  Div 1A Senior Women's Saber              10          E1     1   \n",
       "255  Div 1A Senior Women's Saber              10          E1     1   \n",
       "256  Div 1A Senior Women's Saber              10          E1     1   \n",
       "\n",
       "                 Name ClubAbbr                       Club Rating RatingEarned  \n",
       "0    Senseman, Samuel      NCF  Northern Colorado Fencers  B2016               \n",
       "1    Senseman, Samuel      NCF  Northern Colorado Fencers  B2016               \n",
       "2    Senseman, Samuel      NCF  Northern Colorado Fencers  B2016               \n",
       "3    Senseman, Samuel      NCF  Northern Colorado Fencers  B2016               \n",
       "4    Senseman, Samuel      NCF  Northern Colorado Fencers  B2016               \n",
       "..                ...      ...                        ...    ...          ...  \n",
       "252  Senseman, Samuel      NCF  Northern Colorado Fencers  B2016               \n",
       "253  Senseman, Samuel      NCF  Northern Colorado Fencers  B2016               \n",
       "254  Senseman, Samuel      NCF  Northern Colorado Fencers  B2016               \n",
       "255  Senseman, Samuel      NCF  Northern Colorado Fencers  B2016               \n",
       "256  Senseman, Samuel      NCF  Northern Colorado Fencers  B2016               \n",
       "\n",
       "[257 rows x 9 columns]"
      ]
     },
     "execution_count": 58,
     "metadata": {},
     "output_type": "execute_result"
    }
   ],
   "source": [
    "rows = [r.text.strip() for t in soup.findAll('table', {'class': 'box'}) for r in t.findAll('tr')]\n",
    "# table_starts = ['Competitors' in r for r in rows]\n",
    "category, n, rating = None, None, None\n",
    "data = []\n",
    "for r in rows:\n",
    "    if 'Competitors' in r:\n",
    "        category, n, rating = get_event_type(r)\n",
    "    \n",
    "    if 'Rating Earned' in r:\n",
    "        continue\n",
    "    \n",
    "    row_data = [t.strip() for t in rows[2].split('\\n') if t != '']\n",
    "    if len(row_data) < 6:\n",
    "        row_data += ['']\n",
    "    data.append([category, n, rating] + row_data)\n",
    "\n",
    "pd.DataFrame(data, columns=['Event', 'NumCompetitors', 'EventRating', 'Place', 'Name', 'ClubAbbr', 'Club', 'Rating', 'RatingEarned'])"
   ]
  },
  {
   "cell_type": "code",
   "execution_count": 48,
   "metadata": {},
   "outputs": [
    {
     "data": {
      "text/plain": [
       "['1', 'Senseman, Samuel', 'NCF', 'Northern Colorado Fencers', 'B2016']"
      ]
     },
     "execution_count": 48,
     "metadata": {},
     "output_type": "execute_result"
    }
   ],
   "source": [
    "[t.strip() for t in rows[2].split('\\n') if t != '']"
   ]
  },
  {
   "cell_type": "code",
   "execution_count": 46,
   "metadata": {},
   "outputs": [
    {
     "data": {
      "text/plain": [
       "'1\\n\\xa0\\xa0Senseman, Samuel\\n\\nNCF\\nNorthern Colorado Fencers\\n\\nB2016'"
      ]
     },
     "execution_count": 46,
     "metadata": {},
     "output_type": "execute_result"
    }
   ],
   "source": [
    "rows[2]"
   ]
  },
  {
   "cell_type": "code",
   "execution_count": null,
   "metadata": {},
   "outputs": [],
   "source": []
  }
 ],
 "metadata": {
  "kernelspec": {
   "display_name": "Python 3.10.4 ('py10')",
   "language": "python",
   "name": "python3"
  },
  "language_info": {
   "codemirror_mode": {
    "name": "ipython",
    "version": 3
   },
   "file_extension": ".py",
   "mimetype": "text/x-python",
   "name": "python",
   "nbconvert_exporter": "python",
   "pygments_lexer": "ipython3",
   "version": "3.10.4"
  },
  "orig_nbformat": 4,
  "vscode": {
   "interpreter": {
    "hash": "1cc167b126b20d7f4a938aeb9e4dec04d917a87950e162caa71079bb49a81dcd"
   }
  }
 },
 "nbformat": 4,
 "nbformat_minor": 2
}
