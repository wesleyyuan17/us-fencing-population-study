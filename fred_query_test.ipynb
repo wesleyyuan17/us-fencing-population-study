{
 "cells": [
  {
   "cell_type": "code",
   "execution_count": 1,
   "metadata": {},
   "outputs": [],
   "source": [
    "import pandas as pd \n",
    "import numpy as np\n",
    "\n",
    "import requests\n",
    "from bs4 import BeautifulSoup"
   ]
  },
  {
   "cell_type": "code",
   "execution_count": 2,
   "metadata": {},
   "outputs": [],
   "source": [
    "base_url = 'https://askfred.net/Results/past.php?f%5Bevent_weapon_eq%5D=Epee&f%5Bevent_gender_eq%5D=men&f%5Bevent_age_eq%5D=senior-open&f%5Bradius_mi%5D=300&vals%5Bloc%5D=&f%5Bname_contains%5D=&ops%5Bdate%5D=start_date_eq&vals%5Bdate%5D=&f%5Bevent_is_team%5D=&f%5Bevent_entries_gte%5D=&ops%5Bevent_rating%5D=event_rating_eq&vals%5Bevent_rating%5D=&f%5Bdivision_id%5D=&page_id={}'"
   ]
  },
  {
   "cell_type": "code",
   "execution_count": 3,
   "metadata": {},
   "outputs": [
    {
     "data": {
      "text/plain": [
       "'https://askfred.net/Results/past.php?f%5Bevent_weapon_eq%5D=Epee&f%5Bevent_gender_eq%5D=men&f%5Bevent_age_eq%5D=senior-open&f%5Bradius_mi%5D=300&vals%5Bloc%5D=&f%5Bname_contains%5D=&ops%5Bdate%5D=start_date_eq&vals%5Bdate%5D=&f%5Bevent_is_team%5D=&f%5Bevent_entries_gte%5D=&ops%5Bevent_rating%5D=event_rating_eq&vals%5Bevent_rating%5D=&f%5Bdivision_id%5D=&page_id=1'"
      ]
     },
     "execution_count": 3,
     "metadata": {},
     "output_type": "execute_result"
    }
   ],
   "source": [
    "base_url.format(1)"
   ]
  },
  {
   "cell_type": "code",
   "execution_count": 4,
   "metadata": {},
   "outputs": [],
   "source": [
    "response = requests.get(base_url.format(1))\n",
    "soup = BeautifulSoup(response.text, 'html')"
   ]
  },
  {
   "cell_type": "code",
   "execution_count": 5,
   "metadata": {},
   "outputs": [],
   "source": [
    "tournament_links = [a['href'] for a in soup.find('table', {'id': 'past-tours'}).findAll('a') if 'results' in a['href']]"
   ]
  },
  {
   "cell_type": "code",
   "execution_count": 6,
   "metadata": {},
   "outputs": [
    {
     "data": {
      "text/plain": [
       "['https://askfred.net/Results/results.php?tournament_id=49582',\n",
       " 'https://askfred.net/Results/results.php?tournament_id=50374',\n",
       " 'https://askfred.net/Results/results.php?tournament_id=50514',\n",
       " 'https://askfred.net/Results/results.php?tournament_id=50630',\n",
       " 'https://askfred.net/Results/results.php?tournament_id=48775',\n",
       " 'https://askfred.net/Results/results.php?tournament_id=50599',\n",
       " 'https://askfred.net/Results/results.php?tournament_id=50791',\n",
       " 'https://askfred.net/Results/results.php?tournament_id=48885',\n",
       " 'https://askfred.net/Results/results.php?tournament_id=50657',\n",
       " 'https://askfred.net/Results/results.php?tournament_id=50492',\n",
       " 'https://askfred.net/Results/results.php?tournament_id=50238',\n",
       " 'https://askfred.net/Results/results.php?tournament_id=50574',\n",
       " 'https://askfred.net/Results/results.php?tournament_id=48579',\n",
       " 'https://askfred.net/Results/results.php?tournament_id=49602',\n",
       " 'https://askfred.net/Results/results.php?tournament_id=50260']"
      ]
     },
     "execution_count": 6,
     "metadata": {},
     "output_type": "execute_result"
    }
   ],
   "source": [
    "tournament_links"
   ]
  },
  {
   "cell_type": "code",
   "execution_count": 7,
   "metadata": {},
   "outputs": [],
   "source": [
    "response = requests.get(tournament_links[0])\n",
    "soup = BeautifulSoup(response.text, 'html')"
   ]
  },
  {
   "cell_type": "code",
   "execution_count": 29,
   "metadata": {},
   "outputs": [
    {
     "data": {
      "text/plain": [
       "['Sverdlov, Seth',\n",
       " 'Corridon, Jack (John)',\n",
       " 'Shin, Sangjune',\n",
       " 'Meng, Xiang',\n",
       " 'Li, David',\n",
       " 'Shulkin, Mark',\n",
       " 'Black, Ethan',\n",
       " 'Kucharczyk, Ryan',\n",
       " 'Xian, Andy',\n",
       " 'Krishnan, Skanda',\n",
       " 'Chen, Leonardo',\n",
       " 'Lally, William',\n",
       " 'Keener, Gerald',\n",
       " 'Dalmia, Ayan',\n",
       " 'Lee, Kevin',\n",
       " 'Ganesan, Mathavan',\n",
       " 'Cullen, Reilly',\n",
       " 'Basralian, Azniv',\n",
       " 'Tiburzi, Hallie',\n",
       " 'Halm, Alexandra',\n",
       " 'Rist, Beck',\n",
       " 'Colella, Lauren',\n",
       " 'Kennedy, Shea',\n",
       " 'Judicke, Olivia',\n",
       " 'Schlee, Selma',\n",
       " 'Loftis, Hunter',\n",
       " 'Patel, Meera']"
      ]
     },
     "execution_count": 29,
     "metadata": {},
     "output_type": "execute_result"
    }
   ],
   "source": [
    "names = [r.text.strip().split('\\n\\n')[0].split('\\xa0')[-1] for t in soup.findAll('table', {'class': 'box'}) for r in t.findAll('tr')]\n",
    "names = [n for n in names if (n != '') and ('Competitors' not in n) and ('Rating Earned' not in n)]\n",
    "names"
   ]
  },
  {
   "cell_type": "code",
   "execution_count": null,
   "metadata": {},
   "outputs": [],
   "source": []
  }
 ],
 "metadata": {
  "kernelspec": {
   "display_name": "Python 3.10.4 ('py10')",
   "language": "python",
   "name": "python3"
  },
  "language_info": {
   "codemirror_mode": {
    "name": "ipython",
    "version": 3
   },
   "file_extension": ".py",
   "mimetype": "text/x-python",
   "name": "python",
   "nbconvert_exporter": "python",
   "pygments_lexer": "ipython3",
   "version": "3.10.4"
  },
  "orig_nbformat": 4,
  "vscode": {
   "interpreter": {
    "hash": "1cc167b126b20d7f4a938aeb9e4dec04d917a87950e162caa71079bb49a81dcd"
   }
  }
 },
 "nbformat": 4,
 "nbformat_minor": 2
}
